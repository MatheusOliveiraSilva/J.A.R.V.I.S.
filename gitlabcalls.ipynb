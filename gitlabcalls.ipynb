{
 "cells": [
  {
   "cell_type": "code",
   "execution_count": 10,
   "id": "initial_id",
   "metadata": {
    "collapsed": true,
    "ExecuteTime": {
     "end_time": "2025-01-02T20:52:27.812850Z",
     "start_time": "2025-01-02T20:52:27.290393Z"
    }
   },
   "outputs": [
    {
     "name": "stdout",
     "output_type": "stream",
     "text": [
      "Título: Especificar a implementação do core do chatbot no projeto Danke-LLM\n",
      "Descrição: ## Descrição do problema\n",
      "O uso de chatbot usando LLM tem uma crescente demanda de uso para facilitar buscas de informações, nesse sentido, queremos incorporar o chatbot no DANKE para proporcionar aos usuários a experiencia de chat usando LLM.\n",
      "Fizemos pesquisas e experimentos realizados com Chatbots e LLM usando python. Após pesquisar as features do LangChain4J para criação de Agents e Chatbots em #42, vamos especificar como implementar o chatbot no projeto Danke-LLM.\n",
      "\n",
      "## Proposta de solução\n",
      "- [x] Especificar a implementação do Chatbot em Java no projeto Danke-LLM\n",
      "\n",
      "## Artefatos gerados\n",
      "- [x] Documento com a especificação\n",
      "\n",
      "\n",
      "## Condição de aprovação\n",
      "- [ ] A documentação foi especificada\n",
      "\n",
      "## Responsáveis\n",
      "\n",
      "### Execução\n",
      "- @matheussilva \n",
      "\n",
      "### Revisão\n",
      "- @rogerrsn\n",
      "Estado: opened\n",
      "----------------------------------------\n",
      "Título: Implementar o core do chatbot no projeto Danke-LLM\n",
      "Descrição: ## Descrição do problema\n",
      "O uso de chatbot usando LLM tem uma crescente demanda de uso para facilitar buscas de informações, nesse sentido, queremos incorporar o chatbot no DANKE para proporcionar aos usuários a experiencia de chat usando LLM.\n",
      "Fizemos pesquisas e experimentos realizados com Chatbots e LLM usando python. Agora vamos traduzir a pesquisa para uma aplicação ou protótipo visando a integração com o DANKE. Usando o projeto Danke-LLM,  vamos implementar o core do Chatbot no projeto usando as features encontradas na tarefa #42 e a especificação feita em #44 \n",
      "\n",
      "\n",
      "## Proposta de solução\n",
      "- [ ] Implementar um Chatbot Genérico em Java no Danke-LLM. Não é necessário integrar com o a ferramenta Text-to-SQL.\n",
      "\n",
      "## Artefatos gerados\n",
      "- [ ] Código\n",
      "\n",
      "\n",
      "## Condição de aprovação\n",
      "- [ ] Comportamento esperado das classes implementadas\n",
      "- [ ] Chatbot genérico funcionando\n",
      "\n",
      "## Responsáveis\n",
      "\n",
      "### Execução\n",
      "- @matheussilva \n",
      "\n",
      "### Revisão\n",
      "- @rogerrsn\n",
      "Estado: opened\n",
      "----------------------------------------\n"
     ]
    }
   ],
   "source": [
    "import os\n",
    "import gitlab\n",
    "from dotenv import load_dotenv\n",
    "\n",
    "load_dotenv()\n",
    "\n",
    "# Autenticação\n",
    "gl = gitlab.Gitlab(\n",
    "    url=os.getenv(\"GITLAB_URL\"),\n",
    "    private_token=os.getenv(\"PRIVATE_TOKEN\")\n",
    ")\n",
    "\n",
    "# Obter o projeto\n",
    "project = gl.projects.get(os.getenv(\"PROJECT_ID\"))\n",
    "\n",
    "# Listar tarefas abertas\n",
    "issues = project.issues.list(state=\"opened\", all=True)\n",
    "\n",
    "# Exibir tarefas e descrições\n",
    "for issue in issues:\n",
    "    print(f\"Título: {issue.title}\")\n",
    "    print(f\"Descrição: {issue.description}\")\n",
    "    print(f\"Estado: {issue.state}\")\n",
    "    \n",
    "    print(\"-\" * 40)"
   ]
  },
  {
   "cell_type": "code",
   "outputs": [
    {
     "data": {
      "text/plain": "'As issues abertas do projeto sao:\\nTítulo: Especificar a implementação do core do chatbot no projeto Danke-LLM\\nDescrição: ## Descrição do problema\\nO uso de chatbot usando LLM tem uma crescente demanda de uso para facilitar buscas de informações, nesse sentido, queremos incorporar o chatbot no DANKE para proporcionar aos usuários a experiencia de chat usando LLM.\\nFizemos pesquisas e experimentos realizados com Chatbots e LLM usando python. Após pesquisar as features do LangChain4J para criação de Agents e Chatbots em #42, vamos especificar como implementar o chatbot no projeto Danke-LLM.\\n\\n## Proposta de solução\\n- [x] Especificar a implementação do Chatbot em Java no projeto Danke-LLM\\n\\n## Artefatos gerados\\n- [x] Documento com a especificação\\n\\n\\n## Condição de aprovação\\n- [ ] A documentação foi especificada\\n\\n## Responsáveis\\n\\n### Execução\\n- @matheussilva \\n\\n### Revisão\\n- @rogerrsn\\nID da tarefa: 44\\n----------------------------------------\\nTítulo: Implementar o core do chatbot no projeto Danke-LLM\\nDescrição: ## Descrição do problema\\nO uso de chatbot usando LLM tem uma crescente demanda de uso para facilitar buscas de informações, nesse sentido, queremos incorporar o chatbot no DANKE para proporcionar aos usuários a experiencia de chat usando LLM.\\nFizemos pesquisas e experimentos realizados com Chatbots e LLM usando python. Agora vamos traduzir a pesquisa para uma aplicação ou protótipo visando a integração com o DANKE. Usando o projeto Danke-LLM,  vamos implementar o core do Chatbot no projeto usando as features encontradas na tarefa #42 e a especificação feita em #44 \\n\\n\\n## Proposta de solução\\n- [ ] Implementar um Chatbot Genérico em Java no Danke-LLM. Não é necessário integrar com o a ferramenta Text-to-SQL.\\n\\n## Artefatos gerados\\n- [ ] Código\\n\\n\\n## Condição de aprovação\\n- [ ] Comportamento esperado das classes implementadas\\n- [ ] Chatbot genérico funcionando\\n\\n## Responsáveis\\n\\n### Execução\\n- @matheussilva \\n\\n### Revisão\\n- @rogerrsn\\nID da tarefa: 43\\n----------------------------------------\\n'"
     },
     "execution_count": 17,
     "metadata": {},
     "output_type": "execute_result"
    }
   ],
   "source": [
    "def get_opened_issues() -> str:\n",
    "    \"\"\"\n",
    "    Função que deve ser chamada quando queremos saber sobre as tarefas em aberto\n",
    "    \"\"\"\n",
    "\n",
    "    issues = project.issues.list(state=\"opened\", all=True)\n",
    "\n",
    "    relatorio = \"As issues abertas do projeto sao:\\n\"\n",
    "\n",
    "    for issue in issues:\n",
    "        relatorio += f\"Título: {issue.title}\\n\"\n",
    "        relatorio += f\"Descrição: {issue.description}\\n\"\n",
    "        relatorio += f\"ID da tarefa: {issue.iid}\\n\"\n",
    "        relatorio += \"----------------------------------------\\n\"\n",
    "    \n",
    "    return relatorio\n",
    "\n",
    "get_opened_issues()"
   ],
   "metadata": {
    "collapsed": false,
    "ExecuteTime": {
     "end_time": "2025-01-02T21:14:08.668107Z",
     "start_time": "2025-01-02T21:14:08.187921Z"
    }
   },
   "id": "312c0a3bedab5860",
   "execution_count": 17
  },
  {
   "cell_type": "code",
   "outputs": [
    {
     "name": "stdout",
     "output_type": "stream",
     "text": [
      "<class 'gitlab.v4.objects.issues.ProjectIssue'> => {'id': 30081, 'iid': 44, 'project_id': 3303, 'title': 'Especificar a implementação do core do chatbot no projeto Danke-LLM', 'description': '## Descrição do problema\\nO uso de chatbot usando LLM tem uma crescente demanda de uso para facilitar buscas de informações, nesse sentido, queremos incorporar o chatbot no DANKE para proporcionar aos usuários a experiencia de chat usando LLM.\\nFizemos pesquisas e experimentos realizados com Chatbots e LLM usando python. Após pesquisar as features do LangChain4J para criação de Agents e Chatbots em #42, vamos especificar como implementar o chatbot no projeto Danke-LLM.\\n\\n## Proposta de solução\\n- [x] Especificar a implementação do Chatbot em Java no projeto Danke-LLM\\n\\n## Artefatos gerados\\n- [x] Documento com a especificação\\n\\n\\n## Condição de aprovação\\n- [ ] A documentação foi especificada\\n\\n## Responsáveis\\n\\n### Execução\\n- @matheussilva \\n\\n### Revisão\\n- @rogerrsn', 'state': 'opened', 'created_at': '2024-12-16T12:09:48.736-03:00', 'updated_at': '2025-01-02T08:58:52.415-03:00', 'closed_at': None, 'closed_by': None, 'labels': ['To Review', 'design :: spec', 'owner :: yenier', 'theme :: llm', 'validation :: experiment', 'validation :: study', 'weight :: 2'], 'milestone': {'id': 1115, 'iid': 152, 'group_id': 629, 'title': 'Sprint 2024.25 (16/12 - 05/01)', 'description': '- **Reunião de Planejamento:** 16/12/2024\\r\\n- **Reunião de Review:** 05/01/2025\\r\\n\\r\\n📝 [Sprint Report](https://docs.google.com/document/d/1QzjQ6fBrMmMr0JErBZeu_A12TXeUvhHxfECjlgTV_FE)', 'state': 'active', 'created_at': '2024-12-13T08:53:45.017-03:00', 'updated_at': '2024-12-13T08:53:45.017-03:00', 'due_date': '2025-01-05', 'start_date': '2024-12-16', 'expired': False, 'web_url': 'https://git.tecgraf.puc-rio.br/groups/danke/-/milestones/152'}, 'assignees': [{'id': 770, 'username': 'rogerrsn', 'name': 'Eduardo Roger Silva Nascimento', 'state': 'active', 'avatar_url': 'https://git.tecgraf.puc-rio.br/uploads/-/system/user/avatar/770/avatar.png', 'web_url': 'https://git.tecgraf.puc-rio.br/rogerrsn'}], 'author': {'id': 770, 'username': 'rogerrsn', 'name': 'Eduardo Roger Silva Nascimento', 'state': 'active', 'avatar_url': 'https://git.tecgraf.puc-rio.br/uploads/-/system/user/avatar/770/avatar.png', 'web_url': 'https://git.tecgraf.puc-rio.br/rogerrsn'}, 'type': 'ISSUE', 'assignee': {'id': 770, 'username': 'rogerrsn', 'name': 'Eduardo Roger Silva Nascimento', 'state': 'active', 'avatar_url': 'https://git.tecgraf.puc-rio.br/uploads/-/system/user/avatar/770/avatar.png', 'web_url': 'https://git.tecgraf.puc-rio.br/rogerrsn'}, 'user_notes_count': 2, 'merge_requests_count': 0, 'upvotes': 0, 'downvotes': 0, 'due_date': None, 'confidential': False, 'discussion_locked': None, 'issue_type': 'issue', 'web_url': 'https://git.tecgraf.puc-rio.br/danke/studies/danke-llm/-/issues/44', 'time_stats': {'time_estimate': 0, 'total_time_spent': 57600, 'human_time_estimate': None, 'human_total_time_spent': '2d'}, 'task_completion_status': {'count': 3, 'completed_count': 2}, 'has_tasks': False, '_links': {'self': 'https://git.tecgraf.puc-rio.br/api/v4/projects/3303/issues/44', 'notes': 'https://git.tecgraf.puc-rio.br/api/v4/projects/3303/issues/44/notes', 'award_emoji': 'https://git.tecgraf.puc-rio.br/api/v4/projects/3303/issues/44/award_emoji', 'project': 'https://git.tecgraf.puc-rio.br/api/v4/projects/3303', 'closed_as_duplicate_of': None}, 'references': {'short': '#44', 'relative': '#44', 'full': 'danke/studies/danke-llm#44'}, 'severity': 'UNKNOWN', 'moved_to_id': None, 'service_desk_reply_to': None}\n"
     ]
    }
   ],
   "source": [
    "print(issues[0])"
   ],
   "metadata": {
    "collapsed": false,
    "ExecuteTime": {
     "end_time": "2025-01-02T21:15:25.975702Z",
     "start_time": "2025-01-02T21:15:25.958667Z"
    }
   },
   "id": "5b58c857720bd343",
   "execution_count": 19
  },
  {
   "cell_type": "code",
   "outputs": [],
   "source": [
    "x = \"1d3h2m\"\n",
    "\n",
    "# Faz um assert para verificar se está no formato contendo apenas d h m além dos digitos de 0 a 9.\n",
    "if not all(c.isdigit() or c == \"d\" or c == \"h\" or c == \"m\" for c in x):\n",
    "    raise ValueError(\"O tempo gasto deve estar no formato contendo apenas d h m e os digitos de 0 a 9.\")"
   ],
   "metadata": {
    "collapsed": false,
    "ExecuteTime": {
     "end_time": "2025-01-02T21:44:28.280373Z",
     "start_time": "2025-01-02T21:44:28.249998Z"
    }
   },
   "id": "4a935227cd2482a3",
   "execution_count": 23
  },
  {
   "cell_type": "code",
   "outputs": [
    {
     "name": "stdout",
     "output_type": "stream",
     "text": [
      "[{'id': 1183, 'username': 'matheussilva', 'name': 'Matheus Oliveira Silva', 'state': 'active', 'avatar_url': 'https://git.tecgraf.puc-rio.br/uploads/-/system/user/avatar/1183/avatar.png', 'web_url': 'https://git.tecgraf.puc-rio.br/matheussilva'}]\n"
     ]
    }
   ],
   "source": [
    "print(issues[1].assignees)"
   ],
   "metadata": {
    "collapsed": false,
    "ExecuteTime": {
     "end_time": "2025-01-02T22:05:17.718876Z",
     "start_time": "2025-01-02T22:05:17.706396Z"
    }
   },
   "id": "ccafdea50887d776",
   "execution_count": 31
  },
  {
   "cell_type": "code",
   "outputs": [
    {
     "name": "stdout",
     "output_type": "stream",
     "text": [
      "['To Review', 'design :: spec', 'owner :: yenier', 'theme :: llm', 'validation :: experiment', 'validation :: study', 'weight :: 2']\n"
     ]
    }
   ],
   "source": [
    "print(issues[0].labels)"
   ],
   "metadata": {
    "collapsed": false,
    "ExecuteTime": {
     "end_time": "2025-01-03T01:27:36.781120Z",
     "start_time": "2025-01-03T01:27:36.722136Z"
    }
   },
   "id": "d36e5d780d72bfd8",
   "execution_count": 33
  },
  {
   "cell_type": "code",
   "outputs": [],
   "source": [],
   "metadata": {
    "collapsed": false
   },
   "id": "d709b1b51e2df041"
  }
 ],
 "metadata": {
  "kernelspec": {
   "display_name": "Python 3",
   "language": "python",
   "name": "python3"
  },
  "language_info": {
   "codemirror_mode": {
    "name": "ipython",
    "version": 2
   },
   "file_extension": ".py",
   "mimetype": "text/x-python",
   "name": "python",
   "nbconvert_exporter": "python",
   "pygments_lexer": "ipython2",
   "version": "2.7.6"
  }
 },
 "nbformat": 4,
 "nbformat_minor": 5
}
